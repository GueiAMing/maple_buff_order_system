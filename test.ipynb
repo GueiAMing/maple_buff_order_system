{
 "cells": [
  {
   "cell_type": "markdown",
   "metadata": {},
   "source": [
    "測試專用jupyter notebook\n"
   ]
  },
  {
   "cell_type": "code",
   "execution_count": 18,
   "metadata": {},
   "outputs": [
    {
     "name": "stdout",
     "output_type": "stream",
     "text": [
      "{'_id': '1', 'userids': ['Ud13c8717e015fa3917146eaff9b14b5b', 'U66da2ba27e83014da52f28455ef19c7c', 'Uce735a5042b88aa7ce3b7b0a61694d6d', 'Uf8e734e58b67c12e0de1cd574a1718da'], 'change_password': False, 'nickname': '是否為會員', 'password': '12345678', 'role': 'vip', 'nickname_tuple': ['明明', '藍調爵士xz', '小言', '安安'], 'nickname_list': ['會員總數', '明明', '藍調爵士xz', '小言', '安安', '是否為會員', 'user']}\n",
      "{'_id': 'Uf8e734e58b67c12e0de1cd574a1718da', 'nickname': 'admin', 'got_reward_card_time': '2024-03-11-23:15', 'points': 0, 'uid': '00000001', 'change_password': False, 'password': '12345678', 'role': 'admin'}\n",
      "{'_id': 'Ud13c8717e015fa3917146eaff9b14b5b', 'nickname': '藍調爵士xz', 'got_reward_card_time': '2024-03-13-16:19', 'points': 1, 'uid': '00000003', 'change_password': False, 'password': '12345678', 'role': 'user'}\n",
      "{'_id': 'Uce735a5042b88aa7ce3b7b0a61694d6d', 'nickname': '小言', 'got_reward_card_time': '2024-03-13-20:58', 'points': 4, 'uid': '00000002', 'change_password': False, 'password': '12345678', 'role': 'user'}\n",
      "{'_id': '0', 'uid': 3, 'numbers of uid': 5, 'change_password': False, 'nickname': '會員總數', 'password': '12345678', 'role': 'vip'}\n",
      "{'_id': 'U66da2ba27e83014da52f28455ef19c7c', 'nickname': 'user', 'got_reward_card_time': '2024-11-12-17:56', 'points': 1, 'uid': '00000005', 'role': 'user', 'password': '12345678', 'change_password': False, 'userid_state': 5}\n"
     ]
    }
   ],
   "source": [
    "import mongofunction as m\n",
    "\n",
    "mycol = m.dbmethod(\"buff_online\",\"userid_points\")\n",
    "mydoc = mycol.find()\n",
    "for data in mydoc:\n",
    "    print(data)"
   ]
  },
  {
   "cell_type": "code",
   "execution_count": 17,
   "metadata": {},
   "outputs": [
    {
     "data": {
      "text/plain": [
       "UpdateResult({'n': 1, 'electionId': ObjectId('7fffffff000000000000025a'), 'opTime': {'ts': Timestamp(1731421652, 4), 't': 602}, 'nModified': 1, 'ok': 1.0, '$clusterTime': {'clusterTime': Timestamp(1731421652, 4), 'signature': {'hash': b'c\\xd8\\xaa\\xbc\\xd6\\xfa\\xc23C\\xe6\\x87\\x8f\\xfe\\xd4\\x84\\xd3\\x80j\\xf1\\x10', 'keyId': 7377340735927877638}}, 'operationTime': Timestamp(1731421652, 4), 'updatedExisting': True}, acknowledged=True)"
      ]
     },
     "execution_count": 17,
     "metadata": {},
     "output_type": "execute_result"
    }
   ],
   "source": [
    "mycol.update_one({'_id': 'Uf8e734e58b67c12e0de1cd574a1718da'},{\"$set\":{'password': '123'}},True)"
   ]
  },
  {
   "cell_type": "code",
   "execution_count": null,
   "metadata": {},
   "outputs": [],
   "source": [
    "mycol = m.dbmethod(\"buff_online\",\"userid_points\")\n",
    "mydoc = mycol.find_one({\"nickname\":\"安安\"})\n",
    "uid = mydoc[\"uid\"]\n",
    "print(mydoc[\"uid\"])"
   ]
  },
  {
   "cell_type": "code",
   "execution_count": 32,
   "metadata": {},
   "outputs": [
    {
     "name": "stdout",
     "output_type": "stream",
     "text": [
      "['明明', '藍調爵士xz', '小言', '安安']\n",
      "['明明', '藍調爵士xz', '小言', '安安']\n"
     ]
    }
   ],
   "source": [
    "def get_nickname_list():\n",
    "    mycol = m.dbmethod(\"buff_online\",\"userid_points\")\n",
    "    mydoc = mycol.find_one({'_id': '1'})\n",
    "    return mydoc['nickname_list']\n",
    "\n",
    "print(mydoc['nickname_list'])\n",
    "nickname_list = mydoc['nickname_list']\n",
    "print(nickname_list)\n",
    "\n",
    "\n",
    "\n"
   ]
  },
  {
   "cell_type": "code",
   "execution_count": 1,
   "metadata": {},
   "outputs": [
    {
     "name": "stdout",
     "output_type": "stream",
     "text": [
      "{'是否為會員': {'password': 12345678, 'role': 'vip'}, '明明': {'password': 12345678, 'role': 'user'}, '藍調爵士xz': {'password': 12345678, 'role': 'user'}, '小言': {'password': 12345678, 'role': 'user'}, '會員總數': {'password': 12345678, 'role': 'vip'}, '安安': {'password': 12345678, 'role': 'user'}}\n"
     ]
    }
   ],
   "source": [
    "from mongofunction import getUserdata\n",
    "user_data = getUserdata()\n",
    "print(user_data)\n",
    "\n"
   ]
  },
  {
   "cell_type": "code",
   "execution_count": 1,
   "metadata": {},
   "outputs": [
    {
     "name": "stdout",
     "output_type": "stream",
     "text": [
      "None\n"
     ]
    }
   ],
   "source": [
    "from mongofunction import dbmethod\n",
    "mycol = dbmethod(\"buff_online\",\"userid_order_history\")\n",
    "mydoc = mycol.find_one({\"_id\":12},{\"_id\":0,\"order_date_history\":1})\n",
    "print(mydoc)\n",
    "\n",
    "\n"
   ]
  },
  {
   "cell_type": "code",
   "execution_count": 21,
   "metadata": {},
   "outputs": [],
   "source": [
    "import mongofunction as mf\n",
    "'''取得用戶歷史訂單'''\n",
    "def get_user_order_history(userId, order_date_history):\n",
    "    '''取得用戶歷史訂單'''\n",
    "    print(userId, order_date_history)\n",
    "    order_history_list = []\n",
    "    for date in order_date_history:\n",
    "        print(date)\n",
    "        mycol = mf.dbmethod(\"buff_online\",f\"final_order_{date}\")\n",
    "        mydoc = mycol.find({\"userId\":userId},{\"_id\":0,\"userId\":0,\"point\":0,\"time\":0})\n",
    "        for data in mydoc:\n",
    "            temp = []\n",
    "            for value in data:\n",
    "                temp.append(data[value])\n",
    "            order_history_list.append(temp)\n",
    "    return order_history_list\n",
    "\n"
   ]
  },
  {
   "cell_type": "code",
   "execution_count": 4,
   "metadata": {},
   "outputs": [
    {
     "name": "stdout",
     "output_type": "stream",
     "text": [
      "U66da2ba27e83014da52f28455ef19c7c ['241112', '241111']\n",
      "241112\n",
      "241111\n",
      "[['2024-11-12', '六條岔道', '安安', '安安', '2024-11-12T20:25'], ['2024-11-12', '六條岔道', '安安', '安安', '2024-11-12T20:26'], ['2024-11-11', '六條岔道', '鬼', '鬼', '2024-11-11T21:16']]\n",
      "['2024-11-12', '六條岔道', '安安', '安安', '2024-11-12T20:25']\n",
      "['2024-11-12', '六條岔道', '安安', '安安', '2024-11-12T20:26']\n",
      "['2024-11-11', '六條岔道', '鬼', '鬼', '2024-11-11T21:16']\n"
     ]
    }
   ],
   "source": [
    "import mongofunction as mf\n",
    "userId, order_date_history = mf.getWebUserHistoryOrder(\"user\")\n",
    "order_history_list = mf.get_user_order_history(userId, order_date_history)\n",
    "print(order_history_list)\n",
    "for order in order_history_list:\n",
    "    print(order)\n"
   ]
  },
  {
   "cell_type": "code",
   "execution_count": 5,
   "metadata": {},
   "outputs": [
    {
     "ename": "TypeError",
     "evalue": "'NoneType' object is not subscriptable",
     "output_type": "error",
     "traceback": [
      "\u001b[1;31m---------------------------------------------------------------------------\u001b[0m",
      "\u001b[1;31mTypeError\u001b[0m                                 Traceback (most recent call last)",
      "Cell \u001b[1;32mIn[5], line 1\u001b[0m\n\u001b[1;32m----> 1\u001b[0m userId, order_date_history \u001b[38;5;241m=\u001b[39m \u001b[43mmf\u001b[49m\u001b[38;5;241;43m.\u001b[39;49m\u001b[43mgetWebUserHistoryOrder\u001b[49m\u001b[43m(\u001b[49m\u001b[38;5;124;43m\"\u001b[39;49m\u001b[38;5;124;43m123\u001b[39;49m\u001b[38;5;124;43m\"\u001b[39;49m\u001b[43m)\u001b[49m\n\u001b[0;32m      2\u001b[0m \u001b[38;5;28mprint\u001b[39m(userId, order_date_history)\n",
      "File \u001b[1;32mc:\\Users\\aaaa2\\OneDrive\\桌面\\BUFF機\\Buffonline_local_test\\mongofunction.py:796\u001b[0m, in \u001b[0;36mgetWebUserHistoryOrder\u001b[1;34m(nickname)\u001b[0m\n\u001b[0;32m    794\u001b[0m mycol \u001b[38;5;241m=\u001b[39m dbmethod(\u001b[38;5;124m\"\u001b[39m\u001b[38;5;124mbuff_online\u001b[39m\u001b[38;5;124m\"\u001b[39m,\u001b[38;5;124m\"\u001b[39m\u001b[38;5;124muserid_order_history\u001b[39m\u001b[38;5;124m\"\u001b[39m)\n\u001b[0;32m    795\u001b[0m mydoc \u001b[38;5;241m=\u001b[39m mycol\u001b[38;5;241m.\u001b[39mfind_one({\u001b[38;5;124m\"\u001b[39m\u001b[38;5;124mnickname\u001b[39m\u001b[38;5;124m\"\u001b[39m:nickname},{\u001b[38;5;124m\"\u001b[39m\u001b[38;5;124m_id\u001b[39m\u001b[38;5;124m\"\u001b[39m:\u001b[38;5;241m0\u001b[39m,\u001b[38;5;124m\"\u001b[39m\u001b[38;5;124morder_date_history\u001b[39m\u001b[38;5;124m\"\u001b[39m:\u001b[38;5;241m1\u001b[39m})\n\u001b[1;32m--> 796\u001b[0m order_date_history \u001b[38;5;241m=\u001b[39m \u001b[43mmydoc\u001b[49m\u001b[43m[\u001b[49m\u001b[38;5;124;43m\"\u001b[39;49m\u001b[38;5;124;43morder_date_history\u001b[39;49m\u001b[38;5;124;43m\"\u001b[39;49m\u001b[43m]\u001b[49m\n\u001b[0;32m    797\u001b[0m mycol \u001b[38;5;241m=\u001b[39m dbmethod(\u001b[38;5;124m\"\u001b[39m\u001b[38;5;124mbuff_online\u001b[39m\u001b[38;5;124m\"\u001b[39m,\u001b[38;5;124m\"\u001b[39m\u001b[38;5;124muserid_points\u001b[39m\u001b[38;5;124m\"\u001b[39m)\n\u001b[0;32m    798\u001b[0m mydoc \u001b[38;5;241m=\u001b[39m mycol\u001b[38;5;241m.\u001b[39mfind_one({\u001b[38;5;124m\"\u001b[39m\u001b[38;5;124mnickname\u001b[39m\u001b[38;5;124m\"\u001b[39m:nickname})\n",
      "\u001b[1;31mTypeError\u001b[0m: 'NoneType' object is not subscriptable"
     ]
    }
   ],
   "source": [
    "userId, order_date_history = mf.getWebUserHistoryOrder(\"123\")\n",
    "print(userId, order_date_history)\n"
   ]
  },
  {
   "cell_type": "code",
   "execution_count": 6,
   "metadata": {},
   "outputs": [
    {
     "name": "stdout",
     "output_type": "stream",
     "text": [
      "dict_items([('是否為會員', {'password': '12345678', 'role': 'vip'}), ('明明', {'password': '12345678', 'role': 'user'}), ('藍調爵士xz', {'password': '12345678', 'role': 'user'}), ('小言', {'password': '12345678', 'role': 'user'}), ('會員總數', {'password': '12345678', 'role': 'vip'}), ('user', {'password': '12345678', 'role': 'user'})])\n"
     ]
    }
   ],
   "source": [
    "db_data = mf.getUserdata()\n",
    "print(db_data.items())\n"
   ]
  },
  {
   "cell_type": "code",
   "execution_count": null,
   "metadata": {},
   "outputs": [],
   "source": []
  }
 ],
 "metadata": {
  "kernelspec": {
   "display_name": "Buffonline-tBp-H5aw",
   "language": "python",
   "name": "python3"
  },
  "language_info": {
   "codemirror_mode": {
    "name": "ipython",
    "version": 3
   },
   "file_extension": ".py",
   "mimetype": "text/x-python",
   "name": "python",
   "nbconvert_exporter": "python",
   "pygments_lexer": "ipython3",
   "version": "3.10.10"
  }
 },
 "nbformat": 4,
 "nbformat_minor": 2
}
